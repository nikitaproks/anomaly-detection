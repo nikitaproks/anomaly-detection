{
 "cells": [
  {
   "cell_type": "markdown",
   "metadata": {},
   "source": [
    "# 2D CNN Aproach with scalogram"
   ]
  },
  {
   "cell_type": "markdown",
   "metadata": {},
   "source": [
    "## Imports and setup"
   ]
  },
  {
   "cell_type": "code",
   "execution_count": 11,
   "metadata": {},
   "outputs": [],
   "source": [
    "import csv\n",
    "import os\n",
    "from tqdm import tqdm\n",
    "import random\n",
    "\n",
    "import pandas as pd\n",
    "import numpy as np\n",
    "\n",
    "from matplotlib import pyplot as plt\n",
    "\n",
    "from ssqueezepy import cwt, icwt\n",
    "from ssqueezepy.visuals import plot, imshow\n",
    "from scipy import signal\n",
    "\n",
    "import tensorflow as tf\n",
    "from tensorflow.keras.utils import to_categorical\n",
    "from sklearn.model_selection import train_test_split\n",
    "\n",
    "pd.set_option('display.max_rows', 100)\n",
    "np.set_printoptions(formatter={'all':lambda x: str(x)})\n",
    "pd.options.display.float_format = '{:.10f}'.format"
   ]
  },
  {
   "cell_type": "markdown",
   "metadata": {},
   "source": [
    "## Functions"
   ]
  },
  {
   "cell_type": "code",
   "execution_count": 12,
   "metadata": {},
   "outputs": [],
   "source": [
    "# Visualisation\n",
    "class Plot:\n",
    "    def __init__(self, df,  title):\n",
    "        self.df = df\n",
    "        self.fig = plt.figure(figsize =(25, 8)) \n",
    "        self.fig.suptitle(title) \n",
    "\n",
    "        self.ax = self.fig.add_axes([0.1, 0.1, 0.8, 0.8])\n",
    "        max_xticks = 10\n",
    "        xloc = plt.MaxNLocator(max_xticks)\n",
    "        self.ax.xaxis.set_major_locator(xloc)\n",
    "    def chart(self, column_names, anomalies = False, vertical = False):\n",
    "        for column_name in column_names:\n",
    "            self.ax.plot(self.df.index, self.df[column_name], label = column_name)\n",
    "            if anomalies:\n",
    "                self.ax.plot(self.df[self.df[\"Anomaly\"]==True].index, self.df[column_name][self.df[\"Anomaly\"]==True], marker = 'o', ms = 3, mec = 'r', mfc = 'r', linestyle = \"None\", label=\"Anomalies\")\n",
    "        if vertical:\n",
    "            for i in range(0, len(self.df)-1): \n",
    "                if self.df[\"Anomaly\"].iloc[i]:\n",
    "                    self.ax.axvline(x = self.df.index[i], color = 'r', linestyle = 'dashed', linewidth=0.05)\n",
    "        self.fig.autofmt_xdate(rotation=15)\n",
    "        self.ax.legend()\n",
    "    def show(self): \n",
    "        plt.show()\n",
    "        \n",
    "    def save(self, image_path):\n",
    "        path = f'../images/{image_path}.png'\n",
    "        self.fig.savefig(path, facecolor='white', transparent=False)\n",
    "        plt.close(self.fig)\n",
    "\n",
    "def create_save_sca(X, Y, step, row_length, parameter):\n",
    "    for i in tqdm(range(0, len(X)), desc=f\"Set creation progress...\"): \n",
    "        fig, axs = plt.subplots(2)\n",
    "        fig.suptitle('Chart and Scalogram')      \n",
    "       \n",
    "        Wx, scales = cwt(X[i], 'morlet')\n",
    "        imshow(Wx,ticks=0, borders=0, abs=1, ax=axs[1], show=0)\n",
    "        axs[0].plot(X[i])\n",
    "        \n",
    "        dir_path = f'Scalograms/S{step}L{row_length}/'\n",
    "        if not os.path.exists(dir_path):\n",
    "            os.makedirs(dir_path)\n",
    "        fig.savefig(dir_path + f'{i+1}_sca.png', facecolor='white', transparent=False)\n",
    "        plt.close(fig)\n",
    "        \n",
    "# Finding anomalies\n",
    "def find_column_anomaly(df, column):\n",
    "    anomaly = ((df[column] > df[column].mean()+10) | (df[column] < df[column].mean()-10))\n",
    "    #anomaly[anomaly==0] = -1\n",
    "    return anomaly\n",
    "\n",
    "\n",
    "def find_anomalies_std(df, columns):\n",
    "    anomalies = []\n",
    "    for column in columns:\n",
    "        anomalies_array = find_column_anomaly(df, column)\n",
    "        anomalies.append(anomalies_array)\n",
    "    df_anomalies = pd.DataFrame(anomalies).transpose().astype(int).sum(axis=1)\n",
    "    df[\"Anomaly\"] = df_anomalies>=0.75*len(columns)\n",
    "    return df\n",
    "\n",
    "# Data processing\n",
    "def get_sets(df, columns, step, row_length):\n",
    "    rows_num = int(len(df)/step - (row_length/step-1))\n",
    "    \n",
    "    values = df[columns].values\n",
    "    anomalies = df['Anomaly'].values\n",
    " \n",
    "    X = np.zeros((rows_num, row_length,len(columns)))\n",
    "    Y = np.zeros((rows_num, 1))\n",
    "    \n",
    "    for i in range(0, rows_num):\n",
    "        first_element = step*i\n",
    "        last_element = step*i+row_length\n",
    "        X[i] = values[first_element:last_element]\n",
    "        Y[i] = anomalies[first_element:last_element].sum()\n",
    "    Y = np.where(Y > 0, 1, 0)\n",
    "    return X, Y\n",
    "\n",
    "def wavelet_transformation(X, columns, values_type=\"Complex\"):\n",
    "    Wx_test, scales_test  = cwt(X[0][:,0], 'morlet')\n",
    "    X_shape = Wx_test.shape\n",
    "    scales_shape = scales_test.shape\n",
    "    data = np.zeros((len(X), X_shape[0], X_shape[1], len(columns)*2))\n",
    "    counter = 0\n",
    "    for row in tqdm(X, desc=f\"Data creation progress...\"):\n",
    "        images = []\n",
    "        for i in range(0, len(row[0])):\n",
    "            Wx, scales = cwt(row[:, i], 'morlet')\n",
    "            real = np.reshape(Wx.real, (Wx.shape[0], Wx.shape[1], 1))\n",
    "            imag = np.reshape(Wx.imag, (Wx.shape[0], Wx.shape[1], 1))\n",
    "            image = np.concatenate([real, imag], axis=2)\n",
    "            images.append(image)\n",
    "        data[counter] = np.concatenate(images, axis=2)\n",
    "        counter +=1\n",
    "    return data\n",
    "\n",
    "\n",
    "# Filw management\n",
    "def create_directory(dataset_name):\n",
    "    dir_path = f'datasets/{dataset_name}/'\n",
    "    if not os.path.exists(dir_path):\n",
    "        os.makedirs(dir_path)"
   ]
  },
  {
   "cell_type": "markdown",
   "metadata": {},
   "source": [
    "## Processing data"
   ]
  },
  {
   "cell_type": "code",
   "execution_count": 13,
   "metadata": {
    "scrolled": true
   },
   "outputs": [],
   "source": [
    "df = pd.read_csv('../data/thm/processed_thermal_data.csv')"
   ]
  },
  {
   "cell_type": "markdown",
   "metadata": {},
   "source": [
    "## Create fake test data"
   ]
  },
  {
   "cell_type": "code",
   "execution_count": 14,
   "metadata": {},
   "outputs": [],
   "source": [
    "# Creating gradual increase\n",
    "max_increase = 100\n",
    "incline_temp = np.linspace(30, max_increase, len(df))\n",
    "df[\"Incline_temp\"] = incline_temp\n",
    "df[\"B1_inclined\"] = df[\"Incline_temp\"] + df[\"B1_temp\"]\n",
    "\n",
    "# Creating SIN function\n",
    "periods = 20\n",
    "max_amplitude = 20\n",
    "time        = np.linspace(0, periods*4, len(df));\n",
    "amplitude   = np.sin(time)*max_amplitude\n",
    "df[\"B1_sin\"] = amplitude + df[\"B1_temp\"]\n",
    "\n",
    "# Creating SIN + gradual increase\n",
    "df[\"B1_inclined_sin\"] = df[\"B1_temp\"] + df[\"Incline_temp\"] + amplitude\n",
    "\n",
    "# Creating Sigmoid\n",
    "increase = 200\n",
    "increase_gradient = 100\n",
    "x = np.linspace(-increase_gradient, increase_gradient, len(df))\n",
    "sigmoid = 1/(1 + np.exp(-x+40))*increase\n",
    "df[\"B1_sigmoid\"] = df[\"B1_temp\"] + sigmoid \n",
    "\n",
    "increase = -100\n",
    "increase_gradient = 50\n",
    "x = np.linspace(-increase_gradient, increase_gradient, len(df))\n",
    "sigmoid = 1/(1 + np.exp(-x+40))*increase\n",
    "df[\"B2_inclined\"] = df[\"B2_temp\"] + incline_temp \n",
    "df[\"MB_sin\"] = df[\"MB_temp\"] - amplitude \n",
    "df[\"BMB_sigmoid\"] = df[\"BMB_temp\"] - sigmoid\n",
    "df[\"B2_sigmoid\"] = df[\"B2_temp\"] + sigmoid \n",
    "df[\"MB_sigmoid\"] = df[\"MB_temp\"] + sigmoid \n"
   ]
  },
  {
   "cell_type": "markdown",
   "metadata": {},
   "source": [
    "## Preparing data for scalogram creation"
   ]
  },
  {
   "cell_type": "code",
   "execution_count": 50,
   "metadata": {},
   "outputs": [
    {
     "name": "stderr",
     "output_type": "stream",
     "text": [
      "Data creation progress...: 100%|██████████| 1250/1250 [00:12<00:00, 101.52it/s]\n"
     ]
    },
    {
     "name": "stdout",
     "output_type": "stream",
     "text": [
      "[[[-7.484908564947546e-05 0.00031073420541360974]\n",
      "  [5.5391421483363956e-05 -0.0003896836715284735]\n",
      "  [-1.0892188583966345e-05 0.00046165866660885513]\n",
      "  ...\n",
      "  [-0.0009097057627514005 -2.5677596568129957e-05]\n",
      "  [0.0009286290151067078 -8.602158050052822e-05]\n",
      "  [-0.0009324621642008424 0.00020005668920930475]]\n",
      "\n",
      " [[-0.00020633917301893234 0.0004382219340186566]\n",
      "  [0.00017546373419463634 -0.000580935156904161]\n",
      "  [-9.995724394684657e-05 0.000711126544047147]\n",
      "  ...\n",
      "  [-0.001400575041770935 -6.948398367967457e-05]\n",
      "  [0.0014308886602520943 -0.00010435069270897657]\n",
      "  [-0.0014380606589838862 0.00028171169105917215]]\n",
      "\n",
      " [[-0.0004569934098981321 0.0005781979998573661]\n",
      "  [0.0004095631302334368 -0.0008240094757638872]\n",
      "  [-0.000286276190308854 0.0010484353406354785]\n",
      "  ...\n",
      "  [-0.002039714017882943 -0.0001444346271455288]\n",
      "  [0.0020852922461926937 -0.00011088339670095593]\n",
      "  [-0.002097454620525241 0.00037121030618436635]]\n",
      "\n",
      " ...\n",
      "\n",
      " [[-0.013770812191069126 -0.0005979399429634213]\n",
      "  [-0.013724884949624538 -0.001272921683266759]\n",
      "  [-0.013645893894135952 -0.0019448359962552786]\n",
      "  ...\n",
      "  [0.010704628191888332 0.008683533407747746]\n",
      "  [0.010265653021633625 0.009198324754834175]\n",
      "  [0.009801947511732578 0.009690957143902779]]\n",
      "\n",
      " [[-0.020249465480446815 -0.000879250408615917]\n",
      "  [-0.02018193155527115 -0.0018717843340709805]\n",
      "  [-0.020065778866410255 -0.0028598099015653133]\n",
      "  ...\n",
      "  [0.01574075222015381 0.012768812477588654]\n",
      "  [0.015095259062945843 0.013525795191526413]\n",
      "  [0.014413395896553993 0.014250190928578377]]\n",
      "\n",
      " [[-0.028035219758749008 -0.001217312877997756]\n",
      "  [-0.027941716834902763 -0.0025914686266332865]\n",
      "  [-0.02778090164065361 -0.003959382884204388]\n",
      "  ...\n",
      "  [0.0217929445207119 0.017678312957286835]\n",
      "  [0.02089926227927208 0.018726348876953125]\n",
      "  [0.01995522901415825 0.01972927153110504]]]\n"
     ]
    }
   ],
   "source": [
    "step = 80\n",
    "row_length = 80\n",
    "test_size = 0.6\n",
    "columns = [\"B1_sigmoid\"]\n",
    "\n",
    "df = find_anomalies_std(df, [\"B1_temp\"])\n",
    "df_new = df.iloc[-100000:,:]\n",
    "\n",
    "X, Y =  get_sets(df_new, columns, step, row_length)\n",
    "\n",
    "\n",
    "data = wavelet_transformation(X, columns)\n",
    "x_train, x_test, y_train, y_test = train_test_split(data, Y, test_size=test_size, shuffle=False) "
   ]
  },
  {
   "cell_type": "code",
   "execution_count": 79,
   "metadata": {},
   "outputs": [
    {
     "name": "stdout",
     "output_type": "stream",
     "text": [
      "(750, 194, 80, 2)\n"
     ]
    },
    {
     "data": {
      "image/png": "[encoded data removed]",
      "text/plain": [
       "<Figure size 432x288 with 1 Axes>"
      ]
     },
     "metadata": {
      "needs_background": "light"
     },
     "output_type": "display_data"
    }
   ],
   "source": [
    "print(x_test.shape)\n",
    "i = 320\n",
    "Wx = x_test[i, :, :, 0] + 1j* x_test[i, :, :, 1]\n",
    "fig = plt.figure( figsize=(6,4))\n",
    "imshow(Wx, abs=1, show=1, borders=0, fig=fig, xlabel=\"Time step\", ylabel=\"Scale number\")"
   ]
  },
  {
   "cell_type": "markdown",
   "metadata": {},
   "source": [
    "## Preparing directories and saving scalograms"
   ]
  },
  {
   "cell_type": "code",
   "execution_count": 28,
   "metadata": {
    "scrolled": true
   },
   "outputs": [
    {
     "name": "stdout",
     "output_type": "stream",
     "text": [
      "Save done\n"
     ]
    }
   ],
   "source": [
    "dataset_name = f'{\"&\".join(columns)}-{row_length}L{step}S{int(test_size*100)}T'\n",
    "create_directory(dataset_name)\n",
    "\n",
    "np.save(f'datasets/{dataset_name}/X.npy', X)\n",
    "np.save(f'datasets/{dataset_name}/original_data.npy', df_new[columns+[\"Anomaly\"]].values)\n",
    "np.save(f'datasets/{dataset_name}/x_train.npy', x_train)\n",
    "np.save(f'datasets/{dataset_name}/y_train.npy', y_train)\n",
    "np.save(f'datasets/{dataset_name}/x_test.npy', x_test)\n",
    "np.save(f'datasets/{dataset_name}/y_test.npy', y_test)\n",
    "\n",
    "print(\"Save done\")"
   ]
  },
  {
   "cell_type": "code",
   "execution_count": null,
   "metadata": {},
   "outputs": [],
   "source": []
  }
 ],
 "metadata": {
  "kernelspec": {
   "display_name": "Python 3",
   "language": "python",
   "name": "python3"
  },
  "language_info": {
   "codemirror_mode": {
    "name": "ipython",
    "version": 3
   },
   "file_extension": ".py",
   "mimetype": "text/x-python",
   "name": "python",
   "nbconvert_exporter": "python",
   "pygments_lexer": "ipython3",
   "version": "3.8.5"
  }
 },
 "nbformat": 4,
 "nbformat_minor": 4
}
