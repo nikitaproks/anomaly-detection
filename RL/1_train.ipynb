{
 "cells": [
  {
   "cell_type": "markdown",
   "metadata": {},
   "source": [
    "# Imports"
   ]
  },
  {
   "cell_type": "code",
   "execution_count": 1,
   "metadata": {},
   "outputs": [],
   "source": [
    "# Base imports\n",
    "import os\n",
    "\n",
    "# Mathematical imports\n",
    "import pandas as pd\n",
    "import numpy as np\n",
    "from matplotlib import pyplot as plt\n",
    "from scipy.ndimage.interpolation import shift\n",
    "\n",
    "# Environment\n",
    "import gym\n",
    "import gym_env\n",
    "\n",
    "# Stable baselines - RL algorithms\n",
    "from stable_baselines3 import TD3, A2C, DDPG, SAC, PPO, HerReplayBuffer\n",
    "from stable_baselines3.common.logger import configure\n",
    "from stable_baselines3.common.monitor import Monitor\n",
    "from stable_baselines3.common.env_checker import check_env\n",
    "from stable_baselines3.common.results_plotter import load_results, ts2xy, plot_results\n",
    "from stable_baselines3.common.callbacks import BaseCallback\n",
    "from stable_baselines3.common import results_plotter\n",
    "\n",
    "# ML imports\n",
    "from torch.nn import functional as F\n",
    "import torch as th\n",
    "from sklearn import preprocessing\n",
    "\n",
    "# nbimporter used to import from another file\n",
    "import nbimporter\n",
    "from lib import *\n",
    "\n",
    "# Matplotlib setup\n",
    "plt.rc('xtick', labelsize=20) \n",
    "plt.rc('ytick', labelsize=20)"
   ]
  },
  {
   "cell_type": "markdown",
   "metadata": {},
   "source": [
    "# Setting const variables"
   ]
  },
  {
   "cell_type": "code",
   "execution_count": 2,
   "metadata": {},
   "outputs": [],
   "source": [
    "# Algorithms\n",
    "algorithms = {\n",
    "    \"td3\" : TD3,\n",
    "    \"a2c\" : A2C,\n",
    "    \"ddpg\" : DDPG,\n",
    "    \"sac\" : SAC,\n",
    "    \"ppo\" : PPO,\n",
    "}\n",
    "\n",
    "# Directory for training logs\n",
    "log_dir = \"tmp/\""
   ]
  },
  {
   "cell_type": "markdown",
   "metadata": {},
   "source": [
    "# Reading data from csv"
   ]
  },
  {
   "cell_type": "code",
   "execution_count": 10,
   "metadata": {},
   "outputs": [],
   "source": [
    "# Thermal data\n",
    "df = pd.read_csv('../../data/thm/processed_thermal_data.csv')\n",
    "\n",
    "# EPS data\n",
    "#df = pd.read_csv('../../data/eps/processed_test_power_measurements_2.csv')"
   ]
  },
  {
   "cell_type": "markdown",
   "metadata": {},
   "source": [
    "# User settings\n",
    "- episode_length is the max number of steps that the agent can correlate\n",
    "- obs_size is the number of time steps that the agent observes\n",
    "- train_timesteps is the number of time steps that training is going for"
   ]
  },
  {
   "cell_type": "code",
   "execution_count": 22,
   "metadata": {
    "scrolled": true
   },
   "outputs": [],
   "source": [
    "# Choosing the parameter or multiple parameters (not yet implemented)\n",
    "columns = [\"B1_temp\"]\n",
    "\n",
    "# Choosing appropriate algorithm\n",
    "algorithm_name = \"ddpg\"\n",
    "algorithm = algorithms[algorithm_name]\n",
    "\n",
    "# Training parameters\n",
    "episode_length = 100\n",
    "obs_size = 1\n",
    "train_timesteps = 100000"
   ]
  },
  {
   "cell_type": "markdown",
   "metadata": {},
   "source": [
    "# Preprocessing the data based on chosen columns"
   ]
  },
  {
   "cell_type": "code",
   "execution_count": null,
   "metadata": {},
   "outputs": [],
   "source": [
    "data = df[columns].values\n",
    "if len(columns) ==1:\n",
    "    data = data.reshape((data.shape[0],))"
   ]
  },
  {
   "cell_type": "markdown",
   "metadata": {},
   "source": [
    "# Environment setup"
   ]
  },
  {
   "cell_type": "code",
   "execution_count": null,
   "metadata": {},
   "outputs": [],
   "source": [
    "env = gym.make(\"Anomaly-v4\", data=data, episode_length=episode_length, obs_size=obs_size)\n",
    "env = Monitor(env, log_dir)\n",
    "env.reset(force=True)"
   ]
  },
  {
   "cell_type": "markdown",
   "metadata": {},
   "source": [
    "# Check if environment is setup properly"
   ]
  },
  {
   "cell_type": "code",
   "execution_count": null,
   "metadata": {},
   "outputs": [],
   "source": [
    "print(check_env(env))"
   ]
  },
  {
   "cell_type": "markdown",
   "metadata": {},
   "source": [
    "# Model setup"
   ]
  },
  {
   "cell_type": "code",
   "execution_count": 24,
   "metadata": {},
   "outputs": [
    {
     "name": "stdout",
     "output_type": "stream",
     "text": [
      "Num timesteps: 1000\n",
      "Best mean reward: -inf - Last mean reward per episode: -33.03\n",
      "Saving new best model to tmp/best_models/ddpg_models/B1_sigmoid/OBS_1/EL_100/\n",
      "Num timesteps: 2000\n",
      "Best mean reward: -33.03 - Last mean reward per episode: 11.41\n",
      "Saving new best model to tmp/best_models/ddpg_models/B1_sigmoid/OBS_1/EL_100/\n",
      "Num timesteps: 3000\n",
      "Best mean reward: 11.41 - Last mean reward per episode: -12.26\n",
      "Num timesteps: 4000\n",
      "Best mean reward: 11.41 - Last mean reward per episode: 1.37\n",
      "Num timesteps: 5000\n",
      "Best mean reward: 11.41 - Last mean reward per episode: 13.51\n",
      "Saving new best model to tmp/best_models/ddpg_models/B1_sigmoid/OBS_1/EL_100/\n",
      "Num timesteps: 6000\n",
      "Best mean reward: 13.51 - Last mean reward per episode: 19.22\n",
      "Saving new best model to tmp/best_models/ddpg_models/B1_sigmoid/OBS_1/EL_100/\n",
      "Num timesteps: 7000\n",
      "Best mean reward: 19.22 - Last mean reward per episode: 24.23\n",
      "Saving new best model to tmp/best_models/ddpg_models/B1_sigmoid/OBS_1/EL_100/\n",
      "Num timesteps: 8000\n",
      "Best mean reward: 24.23 - Last mean reward per episode: 28.07\n",
      "Saving new best model to tmp/best_models/ddpg_models/B1_sigmoid/OBS_1/EL_100/\n",
      "Num timesteps: 9000\n",
      "Best mean reward: 28.07 - Last mean reward per episode: 32.09\n",
      "Saving new best model to tmp/best_models/ddpg_models/B1_sigmoid/OBS_1/EL_100/\n",
      "Num timesteps: 10000\n",
      "Best mean reward: 32.09 - Last mean reward per episode: 37.12\n",
      "Saving new best model to tmp/best_models/ddpg_models/B1_sigmoid/OBS_1/EL_100/\n",
      "Num timesteps: 11000\n",
      "Best mean reward: 37.12 - Last mean reward per episode: 48.02\n",
      "Saving new best model to tmp/best_models/ddpg_models/B1_sigmoid/OBS_1/EL_100/\n",
      "Num timesteps: 12000\n",
      "Best mean reward: 48.02 - Last mean reward per episode: 49.10\n",
      "Saving new best model to tmp/best_models/ddpg_models/B1_sigmoid/OBS_1/EL_100/\n",
      "Num timesteps: 13000\n",
      "Best mean reward: 49.10 - Last mean reward per episode: 63.88\n",
      "Saving new best model to tmp/best_models/ddpg_models/B1_sigmoid/OBS_1/EL_100/\n",
      "Num timesteps: 14000\n",
      "Best mean reward: 63.88 - Last mean reward per episode: 67.28\n",
      "Saving new best model to tmp/best_models/ddpg_models/B1_sigmoid/OBS_1/EL_100/\n",
      "Num timesteps: 15000\n",
      "Best mean reward: 67.28 - Last mean reward per episode: 64.61\n",
      "Num timesteps: 16000\n",
      "Best mean reward: 67.28 - Last mean reward per episode: 65.70\n",
      "Num timesteps: 17000\n",
      "Best mean reward: 67.28 - Last mean reward per episode: 66.29\n",
      "Num timesteps: 18000\n",
      "Best mean reward: 67.28 - Last mean reward per episode: 66.83\n",
      "Num timesteps: 19000\n",
      "Best mean reward: 67.28 - Last mean reward per episode: 67.20\n",
      "Num timesteps: 20000\n",
      "Best mean reward: 67.28 - Last mean reward per episode: 67.54\n",
      "Saving new best model to tmp/best_models/ddpg_models/B1_sigmoid/OBS_1/EL_100/\n",
      "Num timesteps: 21000\n",
      "Best mean reward: 67.54 - Last mean reward per episode: 66.59\n",
      "Num timesteps: 22000\n",
      "Best mean reward: 67.54 - Last mean reward per episode: 67.84\n",
      "Saving new best model to tmp/best_models/ddpg_models/B1_sigmoid/OBS_1/EL_100/\n",
      "Num timesteps: 23000\n",
      "Best mean reward: 67.84 - Last mean reward per episode: 67.09\n",
      "Num timesteps: 24000\n",
      "Best mean reward: 67.84 - Last mean reward per episode: 67.12\n",
      "Num timesteps: 25000\n",
      "Best mean reward: 67.84 - Last mean reward per episode: 71.48\n",
      "Saving new best model to tmp/best_models/ddpg_models/B1_sigmoid/OBS_1/EL_100/\n",
      "Num timesteps: 26000\n",
      "Best mean reward: 71.48 - Last mean reward per episode: 72.89\n",
      "Saving new best model to tmp/best_models/ddpg_models/B1_sigmoid/OBS_1/EL_100/\n",
      "Num timesteps: 27000\n",
      "Best mean reward: 72.89 - Last mean reward per episode: 73.47\n",
      "Saving new best model to tmp/best_models/ddpg_models/B1_sigmoid/OBS_1/EL_100/\n",
      "Num timesteps: 28000\n",
      "Best mean reward: 73.47 - Last mean reward per episode: 75.28\n",
      "Saving new best model to tmp/best_models/ddpg_models/B1_sigmoid/OBS_1/EL_100/\n",
      "Num timesteps: 29000\n",
      "Best mean reward: 75.28 - Last mean reward per episode: 74.60\n",
      "Num timesteps: 30000\n",
      "Best mean reward: 75.28 - Last mean reward per episode: 74.10\n",
      "Num timesteps: 31000\n",
      "Best mean reward: 75.28 - Last mean reward per episode: 75.27\n",
      "Num timesteps: 32000\n",
      "Best mean reward: 75.28 - Last mean reward per episode: 74.95\n",
      "Num timesteps: 33000\n",
      "Best mean reward: 75.28 - Last mean reward per episode: 75.58\n",
      "Saving new best model to tmp/best_models/ddpg_models/B1_sigmoid/OBS_1/EL_100/\n",
      "Num timesteps: 34000\n",
      "Best mean reward: 75.58 - Last mean reward per episode: 76.05\n",
      "Saving new best model to tmp/best_models/ddpg_models/B1_sigmoid/OBS_1/EL_100/\n",
      "Num timesteps: 35000\n",
      "Best mean reward: 76.05 - Last mean reward per episode: 74.85\n",
      "Num timesteps: 36000\n",
      "Best mean reward: 76.05 - Last mean reward per episode: 74.68\n",
      "Num timesteps: 37000\n",
      "Best mean reward: 76.05 - Last mean reward per episode: 75.26\n",
      "Num timesteps: 38000\n",
      "Best mean reward: 76.05 - Last mean reward per episode: 74.01\n",
      "Num timesteps: 39000\n",
      "Best mean reward: 76.05 - Last mean reward per episode: 75.41\n",
      "Num timesteps: 40000\n",
      "Best mean reward: 76.05 - Last mean reward per episode: 74.56\n",
      "Num timesteps: 41000\n",
      "Best mean reward: 76.05 - Last mean reward per episode: 74.65\n",
      "Num timesteps: 42000\n",
      "Best mean reward: 76.05 - Last mean reward per episode: 75.16\n",
      "Num timesteps: 43000\n",
      "Best mean reward: 76.05 - Last mean reward per episode: 72.71\n",
      "Num timesteps: 44000\n",
      "Best mean reward: 76.05 - Last mean reward per episode: 66.90\n",
      "Num timesteps: 45000\n",
      "Best mean reward: 76.05 - Last mean reward per episode: 60.09\n",
      "Num timesteps: 46000\n",
      "Best mean reward: 76.05 - Last mean reward per episode: 56.74\n",
      "Num timesteps: 47000\n",
      "Best mean reward: 76.05 - Last mean reward per episode: 56.11\n",
      "Num timesteps: 48000\n",
      "Best mean reward: 76.05 - Last mean reward per episode: 55.83\n",
      "Num timesteps: 49000\n",
      "Best mean reward: 76.05 - Last mean reward per episode: 53.13\n",
      "Num timesteps: 50000\n",
      "Best mean reward: 76.05 - Last mean reward per episode: 50.26\n",
      "Num timesteps: 51000\n",
      "Best mean reward: 76.05 - Last mean reward per episode: 49.39\n",
      "Num timesteps: 52000\n",
      "Best mean reward: 76.05 - Last mean reward per episode: 46.00\n",
      "Num timesteps: 53000\n",
      "Best mean reward: 76.05 - Last mean reward per episode: 44.74\n",
      "Num timesteps: 54000\n",
      "Best mean reward: 76.05 - Last mean reward per episode: 47.64\n",
      "Num timesteps: 55000\n",
      "Best mean reward: 76.05 - Last mean reward per episode: 54.81\n",
      "Num timesteps: 56000\n",
      "Best mean reward: 76.05 - Last mean reward per episode: 56.22\n",
      "Num timesteps: 57000\n",
      "Best mean reward: 76.05 - Last mean reward per episode: 55.06\n",
      "Num timesteps: 58000\n",
      "Best mean reward: 76.05 - Last mean reward per episode: 55.05\n",
      "Num timesteps: 59000\n",
      "Best mean reward: 76.05 - Last mean reward per episode: 55.62\n",
      "Num timesteps: 60000\n",
      "Best mean reward: 76.05 - Last mean reward per episode: 55.47\n",
      "Num timesteps: 61000\n",
      "Best mean reward: 76.05 - Last mean reward per episode: 51.95\n",
      "Num timesteps: 62000\n",
      "Best mean reward: 76.05 - Last mean reward per episode: 52.82\n",
      "Num timesteps: 63000\n",
      "Best mean reward: 76.05 - Last mean reward per episode: 53.27\n",
      "Num timesteps: 64000\n",
      "Best mean reward: 76.05 - Last mean reward per episode: 53.43\n",
      "Num timesteps: 65000\n",
      "Best mean reward: 76.05 - Last mean reward per episode: 51.30\n",
      "Num timesteps: 66000\n",
      "Best mean reward: 76.05 - Last mean reward per episode: 52.98\n",
      "Num timesteps: 67000\n",
      "Best mean reward: 76.05 - Last mean reward per episode: 53.52\n",
      "Num timesteps: 68000\n",
      "Best mean reward: 76.05 - Last mean reward per episode: 54.92\n",
      "Num timesteps: 69000\n",
      "Best mean reward: 76.05 - Last mean reward per episode: 55.54\n",
      "Num timesteps: 70000\n",
      "Best mean reward: 76.05 - Last mean reward per episode: 58.40\n",
      "Num timesteps: 71000\n",
      "Best mean reward: 76.05 - Last mean reward per episode: 60.00\n",
      "Num timesteps: 72000\n",
      "Best mean reward: 76.05 - Last mean reward per episode: 60.81\n",
      "Num timesteps: 73000\n",
      "Best mean reward: 76.05 - Last mean reward per episode: 61.86\n",
      "Num timesteps: 74000\n",
      "Best mean reward: 76.05 - Last mean reward per episode: 63.21\n",
      "Num timesteps: 75000\n",
      "Best mean reward: 76.05 - Last mean reward per episode: 63.92\n",
      "Num timesteps: 76000\n",
      "Best mean reward: 76.05 - Last mean reward per episode: 63.51\n",
      "Num timesteps: 77000\n",
      "Best mean reward: 76.05 - Last mean reward per episode: 65.80\n",
      "Num timesteps: 78000\n",
      "Best mean reward: 76.05 - Last mean reward per episode: 63.32\n",
      "Num timesteps: 79000\n",
      "Best mean reward: 76.05 - Last mean reward per episode: 62.92\n",
      "Num timesteps: 80000\n",
      "Best mean reward: 76.05 - Last mean reward per episode: 62.83\n",
      "Num timesteps: 81000\n",
      "Best mean reward: 76.05 - Last mean reward per episode: 64.15\n"
     ]
    },
    {
     "name": "stdout",
     "output_type": "stream",
     "text": [
      "Num timesteps: 82000\n",
      "Best mean reward: 76.05 - Last mean reward per episode: 64.13\n",
      "Num timesteps: 83000\n",
      "Best mean reward: 76.05 - Last mean reward per episode: 63.01\n",
      "Num timesteps: 84000\n",
      "Best mean reward: 76.05 - Last mean reward per episode: 63.62\n",
      "Num timesteps: 85000\n",
      "Best mean reward: 76.05 - Last mean reward per episode: 65.45\n",
      "Num timesteps: 86000\n",
      "Best mean reward: 76.05 - Last mean reward per episode: 65.26\n",
      "Num timesteps: 87000\n",
      "Best mean reward: 76.05 - Last mean reward per episode: 62.71\n",
      "Num timesteps: 88000\n",
      "Best mean reward: 76.05 - Last mean reward per episode: 65.06\n",
      "Num timesteps: 89000\n",
      "Best mean reward: 76.05 - Last mean reward per episode: 66.08\n",
      "Num timesteps: 90000\n",
      "Best mean reward: 76.05 - Last mean reward per episode: 66.68\n",
      "Num timesteps: 91000\n",
      "Best mean reward: 76.05 - Last mean reward per episode: 66.32\n",
      "Num timesteps: 92000\n",
      "Best mean reward: 76.05 - Last mean reward per episode: 66.64\n",
      "Num timesteps: 93000\n",
      "Best mean reward: 76.05 - Last mean reward per episode: 68.89\n",
      "Num timesteps: 94000\n",
      "Best mean reward: 76.05 - Last mean reward per episode: 65.98\n",
      "Num timesteps: 95000\n",
      "Best mean reward: 76.05 - Last mean reward per episode: 66.03\n",
      "Num timesteps: 96000\n",
      "Best mean reward: 76.05 - Last mean reward per episode: 66.81\n",
      "Num timesteps: 97000\n",
      "Best mean reward: 76.05 - Last mean reward per episode: 68.71\n",
      "Num timesteps: 98000\n",
      "Best mean reward: 76.05 - Last mean reward per episode: 66.81\n",
      "Num timesteps: 99000\n",
      "Best mean reward: 76.05 - Last mean reward per episode: 66.30\n",
      "Num timesteps: 100000\n",
      "Best mean reward: 76.05 - Last mean reward per episode: 65.03\n"
     ]
    },
    {
     "data": {
      "image/png": "[encoded data removed]",
      "text/plain": [
       "<Figure size 576x144 with 1 Axes>"
      ]
     },
     "metadata": {
      "needs_background": "light"
     },
     "output_type": "display_data"
    }
   ],
   "source": [
    "model = algorithm('MlpPolicy', env, device=\"cuda\")"
   ]
  },
  {
   "cell_type": "markdown",
   "metadata": {},
   "source": [
    "# Learning"
   ]
  },
  {
   "cell_type": "code",
   "execution_count": null,
   "metadata": {},
   "outputs": [],
   "source": [
    "callback = SaveOnBestTrainingRewardCallback(check_freq=1000, \n",
    "                                            log_dir=log_dir, \n",
    "                                            algorithm=algorithm_name, \n",
    "                                            column = columns[0],\n",
    "                                            obs_size = obs_size,\n",
    "                                            ep_length = episode_length)\n",
    "\n",
    "model.learn(total_timesteps=train_timesteps, callback=callback)"
   ]
  },
  {
   "cell_type": "markdown",
   "metadata": {},
   "source": [
    "# Plotting the results"
   ]
  },
  {
   "cell_type": "code",
   "execution_count": null,
   "metadata": {},
   "outputs": [],
   "source": [
    "plot_results([log_dir], train_timesteps, results_plotter.X_TIMESTEPS, f\"{algorithm_name.upper()} Anomaly\")\n",
    "plt.show()"
   ]
  }
 ],
 "metadata": {
  "kernelspec": {
   "display_name": "Python 3",
   "language": "python",
   "name": "python3"
  },
  "language_info": {
   "codemirror_mode": {
    "name": "ipython",
    "version": 3
   },
   "file_extension": ".py",
   "mimetype": "text/x-python",
   "name": "python",
   "nbconvert_exporter": "python",
   "pygments_lexer": "ipython3",
   "version": "3.8.5"
  }
 },
 "nbformat": 4,
 "nbformat_minor": 4
}
